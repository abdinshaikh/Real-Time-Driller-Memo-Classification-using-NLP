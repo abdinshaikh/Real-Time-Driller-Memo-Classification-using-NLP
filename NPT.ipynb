{
 "cells": [
  {
   "cell_type": "code",
   "execution_count": null,
   "id": "0ea3b4d1",
   "metadata": {},
   "outputs": [],
   "source": [
    "# Importing required libraries\n",
    "import pandas as pd\n",
    "import numpy as np\n",
    "import re\n",
    "\n",
    "from sklearn.model_selection import train_test_split\n",
    "from sklearn.feature_extraction.text import TfidfVectorizer\n",
    "from sklearn.linear_model import LogisticRegression\n",
    "from sklearn.metrics import accuracy_score, classification_report\n",
    "from imblearn.over_sampling import SMOTE\n",
    "import joblib\n",
    "import json\n"
   ]
  },
  {
   "cell_type": "code",
   "execution_count": null,
   "id": "4d2dbd3e",
   "metadata": {},
   "outputs": [],
   "source": [
    "# Loading the Excel data to pandas\n",
    "codes_raw = pd.read_excel('C:/Users/DELL/OneDrive/Desktop/Project/ONGC_Self/Abdin - Summer Project.xlsx', sheet_name='5 Years TB', skiprows=1)\n",
    "\n",
    "# Rename important columns\n",
    "codes = codes_raw.rename(columns={\n",
    "    codes_raw.columns[10]: 'NPT_Description',\n",
    "    codes_raw.columns[9]: 'Subcode'\n",
    "})\n",
    "\n",
    "# Drop rows with missing values\n",
    "codes = codes.dropna(subset=['NPT_Description', 'Subcode'])\n"
   ]
  },
  {
   "cell_type": "code",
   "execution_count": null,
   "id": "015d109a",
   "metadata": {},
   "outputs": [],
   "source": [
    "# Cleaning the memo text\n",
    "def clean_text(text):\n",
    "    text = str(text).lower()\n",
    "    text = re.sub(r'[^a-z0-9\\s]', '', text)  # remove special characters\n",
    "    text = re.sub(r'\\s+', ' ', text).strip()  # remove extra whitespace\n",
    "    return text\n",
    "\n",
    "codes['Cleaned_Memo'] = codes['NPT_Description'].apply(clean_text)\n"
   ]
  },
  {
   "cell_type": "code",
   "execution_count": null,
   "id": "d3366e9d",
   "metadata": {},
   "outputs": [],
   "source": [
    "# Remove rare subcodes (fewer than 6 occurrences)\n",
    "subcode_counts = codes['Subcode'].value_counts()\n",
    "valid_subcodes = subcode_counts[subcode_counts >= 6].index\n",
    "filtered = codes[codes['Subcode'].isin(valid_subcodes)]\n"
   ]
  },
  {
   "cell_type": "code",
   "execution_count": null,
   "id": "19490e51",
   "metadata": {},
   "outputs": [],
   "source": [
    "# TF-IDF vectorization\n",
    "tfidf = TfidfVectorizer(max_features=3000)\n",
    "tfidf_matrix = tfidf.fit_transform(filtered['Cleaned_Memo']) \n"
   ]
  },
  {
   "cell_type": "code",
   "execution_count": null,
   "id": "a3ded7a5",
   "metadata": {},
   "outputs": [],
   "source": [
    "# Sample 8000 rows\n",
    "sampled_df = filtered.sample(n=8000, random_state=42)\n",
    "\n",
    "code_counts = sampled_df['Subcode'].value_counts()\n",
    "\n",
    "# Keeping only subcodes that have at least 6 samples\n",
    "valid_codes = code_counts[code_counts >= 6].index\n",
    "sampled_df = sampled_df[sampled_df['Subcode'].isin(valid_codes)]\n",
    "\n",
    "# Extract inputs for SMOTE\n",
    "X_sampled = tfidf.transform(sampled_df['Cleaned_Memo'])\n",
    "y_sampled = sampled_df['Subcode']\n"
   ]
  },
  {
   "cell_type": "code",
   "execution_count": 7,
   "id": "9b7cf6ae",
   "metadata": {},
   "outputs": [],
   "source": [
    "from imblearn.over_sampling import SMOTE\n",
    "\n",
    "smote = SMOTE(random_state=42)\n",
    "X_resampled, y_resampled = smote.fit_resample(X_sampled, y_sampled)\n"
   ]
  },
  {
   "cell_type": "code",
   "execution_count": null,
   "id": "33ddf646",
   "metadata": {},
   "outputs": [
    {
     "name": "stdout",
     "output_type": "stream",
     "text": [
      "Accuracy: 0.9214328978108506\n"
     ]
    },
    {
     "name": "stderr",
     "output_type": "stream",
     "text": [
      "c:\\Users\\DELL\\anaconda3\\Lib\\site-packages\\sklearn\\metrics\\_classification.py:1531: UndefinedMetricWarning: Precision is ill-defined and being set to 0.0 in labels with no predicted samples. Use `zero_division` parameter to control this behavior.\n",
      "  _warn_prf(average, modifier, f\"{metric.capitalize()} is\", len(result))\n",
      "c:\\Users\\DELL\\anaconda3\\Lib\\site-packages\\sklearn\\metrics\\_classification.py:1531: UndefinedMetricWarning: Precision is ill-defined and being set to 0.0 in labels with no predicted samples. Use `zero_division` parameter to control this behavior.\n",
      "  _warn_prf(average, modifier, f\"{metric.capitalize()} is\", len(result))\n"
     ]
    },
    {
     "name": "stdout",
     "output_type": "stream",
     "text": [
      "Classification Report:\n",
      "               precision    recall  f1-score   support\n",
      "\n",
      "       11A01       1.00      1.00      1.00       937\n",
      "       11A02       1.00      1.00      1.00       978\n",
      "       12A01       0.99      1.00      0.99       930\n",
      "       12A02       1.00      0.99      0.99       955\n",
      "       12B02       1.00      1.00      1.00      1033\n",
      "       12B03       1.00      1.00      1.00       983\n",
      "       12B04       1.00      0.99      0.99       987\n",
      "       12B05       1.00      1.00      1.00       964\n",
      "       13A19       1.00      1.00      1.00       991\n",
      "        13A7       1.00      1.00      1.00       980\n",
      "        19A1       1.00      0.99      1.00       959\n",
      "        19A2       1.00      1.00      1.00      1014\n",
      "        19A3       0.72      1.00      0.84       946\n",
      "        19A4       1.00      0.65      0.79      1047\n",
      "        1A01       1.00      1.00      1.00       978\n",
      "        1A02       1.00      1.00      1.00       990\n",
      "        1A03       1.00      1.00      1.00       966\n",
      "        1A04       1.00      1.00      1.00       941\n",
      "        1A05       1.00      1.00      1.00       962\n",
      "        1A06       1.00      1.00      1.00       948\n",
      "        1A07       1.00      1.00      1.00       948\n",
      "        21B1       0.00      0.00      0.00       991\n",
      "        21B2       0.49      1.00      0.65       968\n",
      "        21B3       0.50      1.00      0.66       982\n",
      "        21B4       1.00      1.00      1.00       973\n",
      "        21B5       1.00      0.01      0.01      1006\n",
      "        21B7       1.00      1.00      1.00       999\n",
      "        21E1       0.49      1.00      0.66       971\n",
      "        21E2       0.00      0.00      0.00      1021\n",
      "        21E3       0.00      0.00      0.00       999\n",
      "        21E5       0.49      0.99      0.65       958\n",
      "        21E8       1.00      1.00      1.00       965\n",
      "       21M03       1.00      1.00      1.00      1012\n",
      "       22G04       1.00      1.00      1.00      1001\n",
      "       22H01       1.00      1.00      1.00       991\n",
      "        5A01       0.98      1.00      0.99       976\n",
      "        5A02       1.00      1.00      1.00       951\n",
      "        5A04       1.00      0.98      0.99      1017\n",
      "        6A01       0.91      1.00      0.96      1018\n",
      "        6A02       1.00      0.97      0.98      1007\n",
      "        6A03       0.99      1.00      1.00       964\n",
      "        6A04       0.99      1.00      1.00      1008\n",
      "        6A05       1.00      1.00      1.00       974\n",
      "        6A06       1.00      1.00      1.00       912\n",
      "        6A07       1.00      0.98      0.99       974\n",
      "        6A08       1.00      1.00      1.00       974\n",
      "        6A11       1.00      0.96      0.98       937\n",
      "        8A01       1.00      1.00      1.00       970\n",
      "        8A02       0.99      1.00      1.00       989\n",
      "        8A03       1.00      1.00      1.00       953\n",
      "        8B01       1.00      1.00      1.00       965\n",
      "        8B03       1.00      1.00      1.00       993\n",
      "        8B04       1.00      1.00      1.00       949\n",
      "        8B07       1.00      0.99      0.99       978\n",
      "        8B09       0.99      1.00      0.99      1005\n",
      "        8C01       1.00      1.00      1.00      1024\n",
      "        8C03       1.00      1.00      1.00      1001\n",
      "        8C07       1.00      1.00      1.00       972\n",
      "        8C09       1.00      1.00      1.00      1000\n",
      "\n",
      "    accuracy                           0.92     57785\n",
      "   macro avg       0.91      0.92      0.90     57785\n",
      "weighted avg       0.91      0.92      0.90     57785\n",
      "\n"
     ]
    },
    {
     "name": "stderr",
     "output_type": "stream",
     "text": [
      "c:\\Users\\DELL\\anaconda3\\Lib\\site-packages\\sklearn\\metrics\\_classification.py:1531: UndefinedMetricWarning: Precision is ill-defined and being set to 0.0 in labels with no predicted samples. Use `zero_division` parameter to control this behavior.\n",
      "  _warn_prf(average, modifier, f\"{metric.capitalize()} is\", len(result))\n"
     ]
    }
   ],
   "source": [
    "# Training a Logistic Regression model\n",
    "X_train, X_test, y_train, y_test = train_test_split(X_resampled, y_resampled, test_size=0.2, random_state=42)\n",
    "\n",
    "model = LogisticRegression(max_iter=1000)\n",
    "model.fit(X_train, y_train)\n",
    "\n",
    "# Predict\n",
    "y_pred = model.predict(X_test)\n",
    "\n",
    "# Evaluate\n",
    "print(\"Accuracy:\", accuracy_score(y_test, y_pred))\n",
    "print(\"Classification Report:\\n\", classification_report(y_test, y_pred))\n"
   ]
  },
  {
   "cell_type": "code",
   "execution_count": null,
   "id": "469592d0",
   "metadata": {},
   "outputs": [
    {
     "name": "stdout",
     "output_type": "stream",
     "text": [
      "Model and vectorizer saved successfully.\n"
     ]
    }
   ],
   "source": [
    "# Save model, vectorizer, and subcode classes for real-time app\n",
    "joblib.dump(model, \"nlp_subcode_model.pkl\")\n",
    "joblib.dump(tfidf, \"tfidf_vectorizer.pkl\")\n",
    "json.dump(model.classes_.tolist(), open(\"subcode_classes.json\", \"w\"))\n",
    "\n",
    "print(\"Model and vectorizer saved successfully.\")\n"
   ]
  }
 ],
 "metadata": {
  "kernelspec": {
   "display_name": "base",
   "language": "python",
   "name": "python3"
  },
  "language_info": {
   "codemirror_mode": {
    "name": "ipython",
    "version": 3
   },
   "file_extension": ".py",
   "mimetype": "text/x-python",
   "name": "python",
   "nbconvert_exporter": "python",
   "pygments_lexer": "ipython3",
   "version": "3.12.7"
  }
 },
 "nbformat": 4,
 "nbformat_minor": 5
}
